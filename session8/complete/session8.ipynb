{
 "cells": [
  {
   "cell_type": "code",
   "execution_count": 1,
   "id": "04f2a8a5",
   "metadata": {},
   "outputs": [],
   "source": [
    "############## PLEASE RUN THIS CELL FIRST! ###################\n",
    "\n",
    "# import everything and define a test runner function\n",
    "from importlib import reload\n",
    "from helper import run\n",
    "import network, compactfilter"
   ]
  },
  {
   "cell_type": "markdown",
   "id": "12c24c87",
   "metadata": {},
   "source": [
    "### Exercise 1\n",
    "Verify that the block which had your previous transaction matches the filter for your address.\n"
   ]
  },
  {
   "cell_type": "code",
   "execution_count": 2,
   "id": "746bc73a",
   "metadata": {},
   "outputs": [
    {
     "name": "stdout",
     "output_type": "stream",
     "text": [
      "mseRGXB89UTFVkWJhTRTzzZ9Ujj4ZPbGK5\n",
      "0100000001ff5cf6387deac5a25e72ebb753d6adfa487fbac4d5996731213349546a96ae950100000000ffffffff02a0860100000000001976a914850af0029eb376691c3eef244c25eceb4e50c50388ac43f54e5202000000160014f5a74a3131dedb57a092ae86aad3ee3f9b8d721400000000\n"
     ]
    }
   ],
   "source": [
    "# Exercise 1\n",
    "\n",
    "from block import Block\n",
    "from compactfilter import GetCFiltersMessage, CFilterMessage\n",
    "from ecc import PrivateKey\n",
    "from helper import decode_base58, hash256, little_endian_to_int\n",
    "from network import SimpleNode, GetDataMessage, BLOCK_DATA_TYPE\n",
    "from script import p2pkh_script\n",
    "from tx import Tx\n",
    "block_hash = bytes.fromhex('00000006439f526ce138524262a29500258db39130e1ddf0c168ca59002877b8')\n",
    "block_height = 75912\n",
    "passphrase = b'Jimmy Song'\n",
    "secret = little_endian_to_int(hash256(passphrase))\n",
    "private_key = PrivateKey(secret=secret)\n",
    "addr = private_key.point.address(network=\"signet\")\n",
    "print(addr)\n",
    "# convert the address to a ScriptPubKey using decode_base58 and p2pkh_script\n",
    "script_pubkey = p2pkh_script(decode_base58(addr))\n",
    "# connect to signet.programmingbitcoin.com\n",
    "node = SimpleNode('signet.programmingbitcoin.com', network=\"signet\")\n",
    "# complete the handshake\n",
    "node.handshake()\n",
    "# create a GetCFiltersMessage(start_height, stop_hash) using the block height and block hash\n",
    "getcfilters = GetCFiltersMessage(start_height=block_height, stop_hash=block_hash)\n",
    "# send the getcfilters message\n",
    "node.send(getcfilters)\n",
    "# wait for the CFilterMessage command\n",
    "cfilter = node.wait_for(CFilterMessage)\n",
    "# check that the compact filter's block hash is the same as the block hash\n",
    "if cfilter.block_hash != block_hash:\n",
    "    raise RuntimeError('Wrong Compact Filter')\n",
    "# check if your ScriptPubKey is in the filter\n",
    "if not script_pubkey in cfilter:\n",
    "    raise RuntimeError('ScriptPubKey not in filter')\n",
    "# create a GetDataMessage\n",
    "getdata = GetDataMessage()\n",
    "# add the BLOCK_DATA_TYPE with the block hash\n",
    "getdata.add_data(BLOCK_DATA_TYPE, block_hash)\n",
    "# send the GetDataMessage\n",
    "node.send(getdata)\n",
    "# wait for the Block\n",
    "b = node.wait_for(Block)\n",
    "# use the get_transactions(script_pubkey) method of Block to get transactions\n",
    "txs = b.get_transactions(script_pubkey)\n",
    "# print the first one serialized and hexadecimal\n",
    "print(txs[0].serialize().hex())"
   ]
  },
  {
   "cell_type": "markdown",
   "id": "733eb0e7",
   "metadata": {},
   "source": [
    "### Exercise 2\n",
    "\n",
    "\n",
    "\n",
    "\n",
    "#### Make [this test](/edit/session8/network.py) pass: `network.py:SimpleNodeTest:test_get_block`"
   ]
  },
  {
   "cell_type": "code",
   "execution_count": 3,
   "id": "db164cb8",
   "metadata": {},
   "outputs": [
    {
     "name": "stderr",
     "output_type": "stream",
     "text": [
      ".\n",
      "----------------------------------------------------------------------\n",
      "Ran 1 test in 0.120s\n",
      "\n",
      "OK\n"
     ]
    }
   ],
   "source": [
    "# Exercise 2\n",
    "\n",
    "reload(network)\n",
    "run(network.SimpleNodeTest('test_get_block'))"
   ]
  },
  {
   "cell_type": "code",
   "execution_count": 4,
   "id": "aaebaefd",
   "metadata": {},
   "outputs": [
    {
     "name": "stdout",
     "output_type": "stream",
     "text": [
      "1a85880987940c0eb4803aa30397e9f086e09c54e283ce6bbd9d646dcedbb116\n"
     ]
    }
   ],
   "source": [
    "from block import Block\n",
    "from compactfilter import GetCFCheckPointMessage, CFCheckPointMessage, GetCFHeadersMessage, CFHeadersMessage, GetCFiltersMessage, CFilterMessage\n",
    "from helper import hash256\n",
    "from network import SimpleNode\n",
    "num_checkpoints = 20\n",
    "with open('block_headers.testnet', 'rb') as f:\n",
    "    headers = [Block.parse_header(f) for _ in range(num_checkpoints * 1000)]\n",
    "block_hashes = [b.hash() for b in headers]\n",
    "node = SimpleNode('testnet.programmingbitcoin.com', network=\"testnet\")\n",
    "node.handshake()\n",
    "get_cfcheckpoint = GetCFCheckPointMessage(stop_hash=block_hashes[-1])\n",
    "node.send(get_cfcheckpoint)\n",
    "cfcheckpoint = node.wait_for(CFCheckPointMessage)\n",
    "height = 0\n",
    "for checkpoint in cfcheckpoint.filter_headers:\n",
    "    get_cfheaders = GetCFHeadersMessage(start_height=height, stop_hash=block_hashes[height+1000])\n",
    "    node.send(get_cfheaders)\n",
    "    cfheaders = node.wait_for(CFHeadersMessage)\n",
    "    if cfheaders.last_header != checkpoint:\n",
    "        raise RuntimeError(f'checkpoint mismatch {cfheaders.last_header.hex()} vs {checkpoint.hex()}')\n",
    "    node.send(GetCFiltersMessage(start_height=height, stop_hash=block_hashes[height+999]))\n",
    "    for i in range(1000):\n",
    "        fb = node.wait_for(CFilterMessage).filter_bytes\n",
    "        if hash256(fb) != cfheaders.filter_hashes[i]:\n",
    "            raise RuntimeError(f'{i}: filter does not match hash {hash256(fb).hex()} vs {cfheaders.filter_hashes[i].hex()}')\n",
    "    height += 1000\n",
    "print(cfheaders.last_header.hex())"
   ]
  },
  {
   "cell_type": "markdown",
   "id": "bc432c04",
   "metadata": {},
   "source": [
    "### Exercise 3\n",
    "You have been sent some unknown number of sats to your address on signet.\n",
    "\n",
    "Send all of it back (minus fees) to `mqYz6JpuKukHzPg94y4XNDdPCEJrNkLQcv` using only the networking protocol.\n",
    "\n",
    "This should be a many input, 1 output transaction.\n",
    "\n",
    "Turn on logging in `SimpleNode` if you need to debug\n"
   ]
  },
  {
   "cell_type": "code",
   "execution_count": 5,
   "id": "bd74ddac",
   "metadata": {},
   "outputs": [
    {
     "name": "stdout",
     "output_type": "stream",
     "text": [
      "mseRGXB89UTFVkWJhTRTzzZ9Ujj4ZPbGK5\n",
      "0000013cacd6f0e096f8c059241f389211fc014bf7134ed0b83298788a86c9ad\n",
      "89b252427a527b955393aaaebe95f2d38c3367f9fd2415bf0fae3b4336fc7831\n"
     ]
    }
   ],
   "source": [
    "# Exercise 3\n",
    "\n",
    "from block import Block\n",
    "from compactfilter import GetCFiltersMessage, CFilterMessage\n",
    "from ecc import PrivateKey\n",
    "from helper import decode_base58, hash160, hash256, little_endian_to_int\n",
    "from network import GetHeadersMessage, HeadersMessage, SimpleNode, BLOCK_DATA_TYPE\n",
    "from script import p2pkh_script\n",
    "from tx import Tx, TxIn, TxOut\n",
    "start_block_hex = '00000031144d96f3d297c17b092c7bed5acd3d027e37dd4a866f3313614bd4ca'\n",
    "start_block = bytes.fromhex(start_block_hex)\n",
    "start_height = 76218\n",
    "end_block = b'\\x00' * 32\n",
    "passphrase = b'Jimmy Song'\n",
    "secret = little_endian_to_int(hash256(passphrase))\n",
    "private_key = PrivateKey(secret=secret)\n",
    "addr = private_key.point.address(network=\"signet\")\n",
    "print(addr)\n",
    "h160 = decode_base58(addr)\n",
    "my_script_pubkey = p2pkh_script(h160)\n",
    "target_address = 'mqYz6JpuKukHzPg94y4XNDdPCEJrNkLQcv'\n",
    "target_h160 = decode_base58(target_address)\n",
    "target_script = p2pkh_script(target_h160)\n",
    "fee = 200  # fee in satoshis\n",
    "# connect to signet.programmingbitcoin.com in signet mode\n",
    "node = SimpleNode('signet.programmingbitcoin.com', network=\"signet\")\n",
    "# complete the handshake\n",
    "node.handshake()\n",
    "# create GetHeadersMessage with the start_block as the start_block and end_block as the end block\n",
    "get_headers = GetHeadersMessage(start_block=start_block, end_block=end_block)\n",
    "# send the GetHeadersMessage\n",
    "node.send(get_headers)\n",
    "# wait for the headers message\n",
    "headers = node.wait_for(HeadersMessage)\n",
    "# check that the headers are valid\n",
    "if not headers.is_valid():\n",
    "    raise RuntimeError('bad headers')\n",
    "# get the 20th hash (index 19) from the header.headers array\n",
    "stop_hash = headers.headers[19].hash()\n",
    "# create a GetCFiltersMessage\n",
    "get_cfilters = GetCFiltersMessage(start_height=start_height, stop_hash=stop_hash)\n",
    "# send the GetCFiltersMessage\n",
    "node.send(get_cfilters)\n",
    "# loop 100 times\n",
    "for _ in range(100):\n",
    "    # wait for the CFilterMessage\n",
    "    cfilter = node.wait_for(CFilterMessage)\n",
    "    # check to see if your ScriptPubKey is in the filter\n",
    "    if my_script_pubkey in cfilter:\n",
    "        # set block_hash to cfilter's block hash and break\n",
    "        block_hash = cfilter.block_hash\n",
    "        print(block_hash.hex())\n",
    "        break\n",
    "# get the block object using the get_block method of node\n",
    "block_obj = node.get_block(block_hash)\n",
    "# initialize the utxos array\n",
    "utxos = []\n",
    "# grab the txs from the block using get_transactions(my_script_pubkey) method\n",
    "txs = block_obj.get_transactions(my_script_pubkey)\n",
    "# there should be one transaction\n",
    "if len(txs) != 1:\n",
    "    raise RuntimeError(\"incorrect number of transactions\")\n",
    "# set utxos to the tx's utxos for our address using find_utxos(addr) method of the first tx\n",
    "utxos = txs[0].find_utxos(addr)\n",
    "# there should be one utxo\n",
    "if len(utxos) != 1:\n",
    "    raise RuntimeError(\"incorrect number of utxos\")\n",
    "# initialize the tx_ins array\n",
    "tx_ins = []\n",
    "# prev_tx, prev_index, prev_amount are what we get in the first utxo\n",
    "prev_tx, prev_index, prev_amount = utxos[0]\n",
    "# create TxIn and add to array\n",
    "tx_ins.append(TxIn(prev_tx, prev_index))\n",
    "# calculate the output amount (prev_amount - fee)\n",
    "output_amount = prev_amount - fee\n",
    "# create TxOut\n",
    "tx_out = TxOut(output_amount, target_script)\n",
    "# create transaction on signet\n",
    "tx_obj = Tx(1, tx_ins, [tx_out], 0, network=\"signet\")\n",
    "# sign the only input in the tx\n",
    "tx_obj.sign_input(0, private_key)\n",
    "# print the tx's id\n",
    "print(tx_obj.id())\n",
    "# send this signed transaction on the network\n",
    "node.send(tx_obj)"
   ]
  }
 ],
 "metadata": {
  "kernelspec": {
   "display_name": "Python 3 (ipykernel)",
   "language": "python",
   "name": "python3"
  },
  "language_info": {
   "codemirror_mode": {
    "name": "ipython",
    "version": 3
   },
   "file_extension": ".py",
   "mimetype": "text/x-python",
   "name": "python",
   "nbconvert_exporter": "python",
   "pygments_lexer": "ipython3",
   "version": "3.8.2"
  }
 },
 "nbformat": 4,
 "nbformat_minor": 5
}
