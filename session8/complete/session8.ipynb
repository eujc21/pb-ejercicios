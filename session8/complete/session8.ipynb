{
 "cells": [
  {
   "cell_type": "code",
   "execution_count": 1,
   "id": "c40e988d",
   "metadata": {},
   "outputs": [],
   "source": [
    "############## PLEASE RUN THIS CELL FIRST! ###################\n",
    "\n",
    "# import everything and define a test runner function\n",
    "from importlib import reload\n",
    "from helper import run\n",
    "import network, compactfilter"
   ]
  },
  {
   "cell_type": "markdown",
   "id": "1b5f8d49",
   "metadata": {},
   "source": [
    "### Exercise 1\n",
    "Verify that the block which had your previous transaction matches the filter for your address.\n"
   ]
  },
  {
   "cell_type": "code",
   "execution_count": 2,
   "id": "17517697",
   "metadata": {},
   "outputs": [
    {
     "name": "stdout",
     "output_type": "stream",
     "text": [
      "mseRGXB89UTFVkWJhTRTzzZ9Ujj4ZPbGK5\n",
      "0100000001f7cca7a7fbc0a4872661643bbadd7a0d5e2ba62c064fd3fdb80f863285ecc3ee000000006a473044022073561bdf6ab8e5993435637f83859d7b744a10e86e323bcaeb7bfe7a9b6e87140220145989b8a6bcc8aaca79e729c8d7157ea7d3358e7d9ad0384a38bc30a0c9db9a012103dc585d46cfca73f3a75ba1ef0c5756a21c1924587480700c6eb64e3f75d22083ffffffff0200093d00000000001976a9146e13971913b9aa89659a9f53d327baa8826f2d7588ac07868200000000001976a914850af0029eb376691c3eef244c25eceb4e50c50388ac00000000\n"
     ]
    }
   ],
   "source": [
    "# Exercise 1\n",
    "\n",
    "from block import Block\n",
    "from compactfilter import GetCFiltersMessage, CFilterMessage\n",
    "from ecc import PrivateKey\n",
    "from helper import decode_base58, hash256, little_endian_to_int\n",
    "from network import SimpleNode, GetDataMessage, BLOCK_DATA_TYPE\n",
    "from script import p2pkh_script\n",
    "from tx import Tx\n",
    "block_hash = bytes.fromhex('00000000000000025d631a0e2d198b3e6904b988c3c37832270f547c5b7f0b4e')\n",
    "block_height = 1976197\n",
    "passphrase = b'Jimmy Song'\n",
    "secret = little_endian_to_int(hash256(passphrase))\n",
    "private_key = PrivateKey(secret=secret)\n",
    "addr = private_key.point.address(testnet=True)\n",
    "print(addr)\n",
    "# convert the address to a ScriptPubKey using decode_base58 and p2pkh_script\n",
    "script_pubkey = p2pkh_script(decode_base58(addr))\n",
    "# connect to testnet.programmingbitcoin.com in testnet mode\n",
    "node = SimpleNode('testnet.programmingbitcoin.com', testnet=True)\n",
    "# complete the handshake\n",
    "node.handshake()\n",
    "# create a GetCFiltersMessage using the block height and block hash\n",
    "getcfilters = GetCFiltersMessage(start_height=block_height, stop_hash=block_hash)\n",
    "# send the getcfilters message\n",
    "node.send(getcfilters)\n",
    "# wait for the CFilterMessage command\n",
    "cfilter = node.wait_for(CFilterMessage)\n",
    "# check that the compact filter's block hash is the same as the block hash\n",
    "if cfilter.block_hash != block_hash:\n",
    "    raise RuntimeError('Wrong Compact Filter')\n",
    "# check if your ScriptPubKey is in the filter\n",
    "if not script_pubkey in cfilter:\n",
    "    raise RuntimeError('ScriptPubKey not in filter')\n",
    "# create a GetDataMessage\n",
    "getdata = GetDataMessage()\n",
    "# add the BLOCK_DATA_TYPE with the block hash\n",
    "getdata.add_data(BLOCK_DATA_TYPE, block_hash)\n",
    "# send the GetDataMessage\n",
    "node.send(getdata)\n",
    "# wait for the Block\n",
    "b = node.wait_for(Block)\n",
    "# use the get_transactions method of Block to get transactions\n",
    "txs = b.get_transactions(script_pubkey)\n",
    "# print the first one serialized and hexadecimal\n",
    "print(txs[0].serialize().hex())"
   ]
  },
  {
   "cell_type": "markdown",
   "id": "69078996",
   "metadata": {},
   "source": [
    "### Exercise 2\n",
    "\n",
    "\n",
    "\n",
    "\n",
    "#### Make [this test](/edit/session8/network.py) pass: `network.py:SimpleNodeTest:test_get_block`"
   ]
  },
  {
   "cell_type": "code",
   "execution_count": 3,
   "id": "70344ad0",
   "metadata": {},
   "outputs": [
    {
     "name": "stderr",
     "output_type": "stream",
     "text": [
      ".\n",
      "----------------------------------------------------------------------\n",
      "Ran 1 test in 0.794s\n",
      "\n",
      "OK\n"
     ]
    }
   ],
   "source": [
    "# Exercise 2\n",
    "\n",
    "reload(network)\n",
    "run(network.SimpleNodeTest('test_get_block'))"
   ]
  },
  {
   "cell_type": "code",
   "execution_count": 4,
   "id": "b6d25371",
   "metadata": {},
   "outputs": [
    {
     "name": "stdout",
     "output_type": "stream",
     "text": [
      "1a85880987940c0eb4803aa30397e9f086e09c54e283ce6bbd9d646dcedbb116\n"
     ]
    }
   ],
   "source": [
    "from block import Block\n",
    "from compactfilter import GetCFCheckPointMessage, CFCheckPointMessage, GetCFHeadersMessage, CFHeadersMessage, GetCFiltersMessage, CFilterMessage\n",
    "from helper import hash256\n",
    "from network import SimpleNode\n",
    "num_checkpoints = 20\n",
    "with open('block_headers.testnet', 'rb') as f:\n",
    "    headers = [Block.parse_header(f) for _ in range(num_checkpoints * 1000)]\n",
    "block_hashes = [b.hash() for b in headers]\n",
    "node = SimpleNode('testnet.programmingbitcoin.com', testnet=True)\n",
    "node.handshake()\n",
    "get_cfcheckpoint = GetCFCheckPointMessage(stop_hash=block_hashes[-1])\n",
    "node.send(get_cfcheckpoint)\n",
    "cfcheckpoint = node.wait_for(CFCheckPointMessage)\n",
    "height = 0\n",
    "for checkpoint in cfcheckpoint.filter_headers:\n",
    "    get_cfheaders = GetCFHeadersMessage(start_height=height, stop_hash=block_hashes[height+1000])\n",
    "    node.send(get_cfheaders)\n",
    "    cfheaders = node.wait_for(CFHeadersMessage)\n",
    "    if cfheaders.last_header != checkpoint:\n",
    "        raise RuntimeError(f'checkpoint mismatch {cfheaders.last_header.hex()} vs {checkpoint.hex()}')\n",
    "    node.send(GetCFiltersMessage(start_height=height, stop_hash=block_hashes[height+999]))\n",
    "    for i in range(1000):\n",
    "        fb = node.wait_for(CFilterMessage).filter_bytes\n",
    "        if hash256(fb) != cfheaders.filter_hashes[i]:\n",
    "            raise RuntimeError(f'{i}: filter does not match hash {hash256(fb).hex()} vs {cfheaders.filter_hashes[i].hex()}')\n",
    "    height += 1000\n",
    "print(cfheaders.last_header.hex())"
   ]
  },
  {
   "cell_type": "markdown",
   "id": "86dc5512",
   "metadata": {},
   "source": [
    "### Exercise 3\n",
    "You have been sent some unknown amount of testnet bitcoins to your address.\n",
    "\n",
    "Send all of it back (minus fees) to `mqYz6JpuKukHzPg94y4XNDdPCEJrNkLQcv` using only the networking protocol.\n",
    "\n",
    "This should be a many input, 1 output transaction.\n",
    "\n",
    "Turn on logging in `SimpleNode` if you need to debug\n"
   ]
  },
  {
   "cell_type": "code",
   "execution_count": 5,
   "id": "4a70d60f",
   "metadata": {},
   "outputs": [
    {
     "name": "stdout",
     "output_type": "stream",
     "text": [
      "mseRGXB89UTFVkWJhTRTzzZ9Ujj4ZPbGK5\n",
      "000000001044cfa9a8a4716548cddb324448ef11b495561313b9495d0051bdad\n",
      "01000000022f4253b1f1ff81a38fbf88424bc4795d0c6d493d30db91265249951beee83e86110000006b483045022100e0c8db514f9a8433930a742295be139208340a27a26dcb3c84bcadce034287150220661f37de000512e663e20b923e53fd6c4b1fed1271deb94da71a669f72e17220012103dc585d46cfca73f3a75ba1ef0c5756a21c1924587480700c6eb64e3f75d22083ffffffff45d4df59c7d9b50d73616f509ddfdcc13bd3ad03655bef04056ea969ae15ab26000000006b483045022100f80cb07035f3734b3318409e73d433894116a664e9d6864fe0ca3dbc6398477e0220646f3fff90d6c89946300c2d92fc06b558c7f5c6c531a4e4ec8247435769e9d1012103dc585d46cfca73f3a75ba1ef0c5756a21c1924587480700c6eb64e3f75d22083ffffffff01f8829800000000001976a9146e13971913b9aa89659a9f53d327baa8826f2d7588ac00000000\n"
     ]
    }
   ],
   "source": [
    "# Exercise 3\n",
    "\n",
    "from block import Block\n",
    "from compactfilter import GetCFiltersMessage, CFilterMessage\n",
    "from ecc import PrivateKey\n",
    "from helper import decode_base58, hash160, hash256, little_endian_to_int\n",
    "from network import GetHeadersMessage, HeadersMessage, SimpleNode, BLOCK_DATA_TYPE\n",
    "from script import p2pkh_script\n",
    "from tx import Tx, TxIn, TxOut\n",
    "start_block_hex = '000000008d4459b8110998b565b736360f58355199ca120b9e5fa02f05a71c93'\n",
    "start_block = bytes.fromhex(start_block_hex)\n",
    "start_height = 1486230\n",
    "end_block = b'\\x00' * 32\n",
    "passphrase = b'Jimmy Song'\n",
    "secret = little_endian_to_int(hash256(passphrase))\n",
    "private_key = PrivateKey(secret=secret)\n",
    "addr = private_key.point.address(testnet=True)\n",
    "print(addr)\n",
    "h160 = decode_base58(addr)\n",
    "my_script_pubkey = p2pkh_script(h160)\n",
    "target_address = 'mqYz6JpuKukHzPg94y4XNDdPCEJrNkLQcv'\n",
    "target_h160 = decode_base58(target_address)\n",
    "target_script = p2pkh_script(target_h160)\n",
    "fee = 5000  # fee in satoshis\n",
    "# connect to testnet.programmingbitcoin.com in testnet mode\n",
    "node = SimpleNode('testnet.programmingbitcoin.com', testnet=True)\n",
    "# complete the handshake\n",
    "node.handshake()\n",
    "# create GetHeadersMessage with the start_block as the start_block and end_block as the end block\n",
    "get_headers = GetHeadersMessage(start_block=start_block, end_block=end_block)\n",
    "# send the GetHeadersMessage\n",
    "node.send(get_headers)\n",
    "# wait for the headers message\n",
    "headers = node.wait_for(HeadersMessage)\n",
    "# check that the headers are valid\n",
    "if not headers.is_valid():\n",
    "    raise RuntimeError('bad headers')\n",
    "# get the 99th hash from the header.headers array\n",
    "stop_hash = headers.headers[99].hash()\n",
    "# create a GetCFiltersMessage\n",
    "get_cfilters = GetCFiltersMessage(start_height=start_height, stop_hash=stop_hash)\n",
    "# send the GetCFiltersMessage\n",
    "node.send(get_cfilters)\n",
    "# initialize the block_hashes array\n",
    "block_hashes = []\n",
    "# loop 100 times\n",
    "for _ in range(100):\n",
    "    # wait for the CFilterMessage\n",
    "    cfilter = node.wait_for(CFilterMessage)\n",
    "    # check to see if your ScriptPubKey is in the filter\n",
    "    if my_script_pubkey in cfilter:\n",
    "        # add cfilter's block hash to the hashes we need to go get\n",
    "        block_hashes.append(cfilter.block_hash)\n",
    "        print(cfilter.block_hash.hex())\n",
    "# create a GetDataMessage\n",
    "get_data = GetDataMessage()\n",
    "# add_data to the GetDataMessage for each block hash\n",
    "for block_hash in block_hashes:\n",
    "    get_data.add_data(BLOCK_DATA_TYPE, block_hash)\n",
    "# send the GetDataMessage\n",
    "node.send(get_data)\n",
    "# initialize the utxos array\n",
    "utxos = []\n",
    "# for every block hash, wait for a block message\n",
    "for block_hash in block_hashes:\n",
    "    b = node.wait_for(Block)\n",
    "    # check that the hashes match for the block\n",
    "    if b.hash() != block_hash:\n",
    "        raise RuntimeError('bad block')\n",
    "    # loop through the transactions corresponding to our ScriptPubKey using the get_transactions method\n",
    "    for tx_obj in b.get_transactions(my_script_pubkey):\n",
    "        # use find_utxos to get utxos that belong to our address\n",
    "        new_utxos = tx_obj.find_utxos(addr)\n",
    "        # add to the utxos array using extend method\n",
    "        utxos.extend(new_utxos)\n",
    "# initialize the input sum\n",
    "input_sum = 0\n",
    "# initialize the tx_ins array\n",
    "tx_ins = []\n",
    "# for each utxo, create a TxIn\n",
    "for utxo in utxos:\n",
    "    # prev_tx, prev_index, prev_amount are what we get in each utxo\n",
    "    prev_tx, prev_index, prev_amount = utxo\n",
    "    # create TxIn and add to array\n",
    "    tx_ins.append(TxIn(prev_tx, prev_index))\n",
    "    # add the amount to the input sum\n",
    "    input_sum += prev_amount\n",
    "# calculate the output amount (input_sum - fee)\n",
    "output_amount = prev_amount - fee\n",
    "# create tx_out\n",
    "tx_out = TxOut(output_amount, target_script)\n",
    "# create transaction on testnet\n",
    "tx_obj = Tx(1, tx_ins, [tx_out], 0, testnet=True)\n",
    "# sign the inputs we have\n",
    "for i in range(len(tx_ins)):\n",
    "    tx_obj.sign_input(i, private_key)\n",
    "# serialize and hex to see what it looks like\n",
    "print(tx_obj.serialize().hex())\n",
    "# send this signed transaction on the network\n",
    "node.send(tx_obj)"
   ]
  }
 ],
 "metadata": {
  "kernelspec": {
   "display_name": "Python 3",
   "language": "python",
   "name": "python3"
  },
  "language_info": {
   "codemirror_mode": {
    "name": "ipython",
    "version": 3
   },
   "file_extension": ".py",
   "mimetype": "text/x-python",
   "name": "python",
   "nbconvert_exporter": "python",
   "pygments_lexer": "ipython3",
   "version": "3.8.5"
  }
 },
 "nbformat": 4,
 "nbformat_minor": 5
}
