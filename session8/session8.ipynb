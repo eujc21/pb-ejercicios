{
 "cells": [
  {
   "cell_type": "code",
   "execution_count": null,
   "id": "78941a24",
   "metadata": {},
   "outputs": [],
   "source": [
    "############## PLEASE RUN THIS CELL FIRST! ###################\n",
    "\n",
    "# import everything and define a test runner function\n",
    "from importlib import reload\n",
    "from helper import run\n",
    "import network, block"
   ]
  },
  {
   "cell_type": "markdown",
   "id": "35fbc0d2",
   "metadata": {},
   "source": [
    "### Exercise 1\n",
    "\n",
    "\n",
    "\n",
    "\n",
    "#### Make [this test](/edit/session8/block.py) pass: `block.py:BlockTest:test_get_transactions`"
   ]
  },
  {
   "cell_type": "code",
   "execution_count": null,
   "id": "247a6b8d",
   "metadata": {},
   "outputs": [],
   "source": [
    "# Exercise 1\n",
    "\n",
    "reload(block)\n",
    "run(block.BlockTest('test_get_transactions'))"
   ]
  },
  {
   "cell_type": "markdown",
   "id": "cef750cb",
   "metadata": {},
   "source": [
    "### Exercise 2\n",
    "Check that the block with your previous transaction in fact has it\n"
   ]
  },
  {
   "cell_type": "code",
   "execution_count": null,
   "id": "ca6b2a78",
   "metadata": {},
   "outputs": [],
   "source": [
    "# Exercise 2\n",
    "\n",
    "from block import Block\n",
    "from ecc import PrivateKey\n",
    "from helper import decode_base58, hash256, little_endian_to_int\n",
    "from network import SimpleNode, GetDataMessage, BLOCK_DATA_TYPE\n",
    "from script import p2pkh_script\n",
    "from tx import Tx\n",
    "block_hash = bytes.fromhex('<block hash from class>')  # CHANGE\n",
    "passphrase = b'<your passphrase here>'  # CHANGE\n",
    "secret = little_endian_to_int(hash256(passphrase))\n",
    "private_key = PrivateKey(secret=secret)\n",
    "addr = private_key.point.address(network=\"signet\")\n",
    "print(addr)\n",
    "# convert the address to a ScriptPubKey using decode_base58 and p2pkh_script\n",
    "\n",
    "# connect to signet.programmingbitcoin.com\n",
    "\n",
    "# complete the handshake\n",
    "\n",
    "# create a GetDataMessage\n",
    "\n",
    "# add the BLOCK_DATA_TYPE with the block hash\n",
    "\n",
    "# send the GetDataMessage\n",
    "\n",
    "# wait for the Block\n",
    "\n",
    "# get transactions in this block that have your ScriptPubKey\n",
    "\n",
    "# print the first one serialized and hexadecimal\n"
   ]
  },
  {
   "cell_type": "markdown",
   "id": "d8a1acf4",
   "metadata": {},
   "source": [
    "### Exercise 3\n",
    "\n",
    "\n",
    "\n",
    "\n",
    "#### Make [this test](/edit/session8/network.py) pass: `network.py:SimpleNodeTest:test_get_block`"
   ]
  },
  {
   "cell_type": "code",
   "execution_count": null,
   "id": "b34428bc",
   "metadata": {},
   "outputs": [],
   "source": [
    "# Exercise 3\n",
    "\n",
    "reload(network)\n",
    "run(network.SimpleNodeTest('test_get_block'))"
   ]
  },
  {
   "cell_type": "markdown",
   "id": "de5b652b",
   "metadata": {},
   "source": [
    "### Exercise 4\n",
    "You have been sent some unknown number of sats to your address on signet.\n",
    "\n",
    "Send all of it back (minus fees) to `mqYz6JpuKukHzPg94y4XNDdPCEJrNkLQcv` using only the networking protocol.\n",
    "\n",
    "This should be a 1 input, 1 output transaction.\n",
    "\n",
    "Turn on logging in `SimpleNode` if you need to debug\n"
   ]
  },
  {
   "cell_type": "code",
   "execution_count": null,
   "id": "8c14f608",
   "metadata": {},
   "outputs": [],
   "source": [
    "# Exercise 4\n",
    "\n",
    "from block import Block\n",
    "from ecc import PrivateKey\n",
    "from helper import decode_base58, hash160, hash256, little_endian_to_int\n",
    "from network import GetDataMessage, SimpleNode, BLOCK_DATA_TYPE\n",
    "from script import p2pkh_script\n",
    "from tx import Tx, TxIn, TxOut\n",
    "block_hex = '<insert from class>'  # CHANGE\n",
    "block_hash = bytes.fromhex(block_hex)\n",
    "passphrase = b'<get from session 2>'  # CHANGE\n",
    "secret = little_endian_to_int(hash256(passphrase))\n",
    "private_key = PrivateKey(secret=secret)\n",
    "addr = private_key.point.address(network=\"signet\")\n",
    "print(addr)\n",
    "h160 = decode_base58(addr)\n",
    "my_script_pubkey = p2pkh_script(h160)\n",
    "target_address = 'mqYz6JpuKukHzPg94y4XNDdPCEJrNkLQcv'\n",
    "target_h160 = decode_base58(target_address)\n",
    "target_script = p2pkh_script(target_h160)\n",
    "fee = 200  # fee in satoshis\n",
    "# connect to signet.programmingbitcoin.com in signet mode\n",
    "\n",
    "# complete the handshake\n",
    "\n",
    "# get the block object using the get_block method of node\n",
    "\n",
    "# grab the txs from the block using get_transactions\n",
    "\n",
    "# there should be one transaction\n",
    "if len(txs) != 1:\n",
    "    raise RuntimeError(\"incorrect number of transactions\")\n",
    "# initialize the tx_ins array\n",
    "\n",
    "# loop through the outputs of the transaction, enumerated\n",
    "\n",
    "    # check if the output has the script pubkey we're looking for\n",
    "\n",
    "        # add this tx out as a tx in\n",
    "\n",
    "        # record the amount from this output\n",
    "\n",
    "# calculate the output amount (prev amount - fee)\n",
    "\n",
    "# create TxOut\n",
    "\n",
    "# create transaction on signet\n",
    "\n",
    "# sign the only input in the tx\n",
    "\n",
    "# print the tx's id\n",
    "\n",
    "# send this signed transaction via the node\n"
   ]
  }
 ],
 "metadata": {},
 "nbformat": 4,
 "nbformat_minor": 5
}
