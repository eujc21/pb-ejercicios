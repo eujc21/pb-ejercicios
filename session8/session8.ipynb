{
 "cells": [
  {
   "cell_type": "code",
   "execution_count": 2,
   "id": "38e2d4da",
   "metadata": {},
   "outputs": [],
   "source": [
    "############## PLEASE RUN THIS CELL FIRST! ###################\n",
    "\n",
    "# import everything and define a test runner function\n",
    "from importlib import reload\n",
    "from helper import run\n",
    "import bloomfilter, network"
   ]
  },
  {
   "cell_type": "code",
   "execution_count": 2,
   "id": "114053e0",
   "metadata": {},
   "outputs": [
    {
     "name": "stdout",
     "output_type": "stream",
     "text": [
      "[0, 0, 0, 0, 0, 0, 0, 0, 0, 1]\n"
     ]
    }
   ],
   "source": [
    "# Example Bloom Filter\n",
    "from helper import hash256\n",
    "bit_field_size = 10\n",
    "bit_field = [0] * bit_field_size\n",
    "h256 = hash256(b'hello world')\n",
    "bit = int.from_bytes(h256, 'big') % bit_field_size\n",
    "bit_field[bit] = 1\n",
    "print(bit_field)"
   ]
  },
  {
   "cell_type": "code",
   "execution_count": 3,
   "id": "7f6940a5",
   "metadata": {},
   "outputs": [
    {
     "name": "stdout",
     "output_type": "stream",
     "text": [
      "[0, 0, 1, 0, 0, 0, 0, 0, 0, 1]\n"
     ]
    }
   ],
   "source": [
    "# Example Bloom Filter 2\n",
    "from helper import hash256\n",
    "bit_field_size = 10\n",
    "bit_field = [0] * bit_field_size\n",
    "h = hash256(b'hello world')\n",
    "bit = int.from_bytes(h, 'big') % bit_field_size\n",
    "bit_field[bit] = 1\n",
    "h = hash256(b'goodbye')\n",
    "bit = int.from_bytes(h, 'big') % bit_field_size\n",
    "bit_field[bit] = 1\n",
    "print(bit_field)"
   ]
  },
  {
   "cell_type": "code",
   "execution_count": 4,
   "id": "cc1ed58a",
   "metadata": {},
   "outputs": [
    {
     "name": "stdout",
     "output_type": "stream",
     "text": [
      "[1, 1, 1, 0, 0, 0, 0, 0, 0, 1]\n"
     ]
    }
   ],
   "source": [
    "# Example Bloom Filter 3\n",
    "from helper import hash160, hash256\n",
    "bit_field_size = 10\n",
    "bit_field = [0] * bit_field_size\n",
    "phrase1 = b'hello world'\n",
    "h1 = hash256(phrase1)\n",
    "bit1 = int.from_bytes(h1, 'big') % bit_field_size\n",
    "bit_field[bit1] = 1\n",
    "h2 = hash160(phrase1)\n",
    "bit2 = int.from_bytes(h2, 'big') % bit_field_size\n",
    "bit_field[bit2] = 1\n",
    "phrase2 = b'goodbye'\n",
    "h1 = hash256(phrase2)\n",
    "bit1 = int.from_bytes(h1, 'big') % bit_field_size\n",
    "bit_field[bit1] = 1\n",
    "h2 = hash160(phrase2)\n",
    "bit2 = int.from_bytes(h2, 'big') % bit_field_size\n",
    "bit_field[bit2] = 1\n",
    "print(bit_field)"
   ]
  },
  {
   "cell_type": "code",
   "execution_count": 5,
   "id": "71272776",
   "metadata": {},
   "outputs": [
    {
     "name": "stdout",
     "output_type": "stream",
     "text": [
      "[0, 0, 0, 0, 0, 1, 1, 0, 0, 1, 1, 0, 0, 0, 0, 0]\n"
     ]
    }
   ],
   "source": [
    "# Example BIP0037 Bloom Filter\n",
    "from helper import murmur3\n",
    "from bloomfilter import BIP37_CONSTANT\n",
    "field_size = 2\n",
    "num_functions = 2\n",
    "tweak = 42\n",
    "bit_field_size = field_size * 8\n",
    "bit_field = [0] * bit_field_size\n",
    "for phrase in (b'hello world', b'goodbye'):\n",
    "    for i in range(num_functions):\n",
    "        seed = i * BIP37_CONSTANT + tweak\n",
    "        h = murmur3(phrase, seed=seed)\n",
    "        bit = h % bit_field_size\n",
    "        bit_field[bit] = 1\n",
    "print(bit_field)"
   ]
  },
  {
   "cell_type": "markdown",
   "id": "1a620554",
   "metadata": {},
   "source": [
    "### Exercise 1\n",
    "Given a Bloom Filter with these parameters: size=10, function count=5, tweak=99, which bits are set after adding these items?\n",
    "\n",
    "* `b'Hello World'`\n",
    "* `b'Goodbye!'`\n"
   ]
  },
  {
   "cell_type": "code",
   "execution_count": 6,
   "id": "ceed50bb",
   "metadata": {},
   "outputs": [
    {
     "name": "stdout",
     "output_type": "stream",
     "text": [
      "4000600a080000010940\n"
     ]
    }
   ],
   "source": [
    "# Exercise 1\n",
    "\n",
    "from bloomfilter import BIP37_CONSTANT\n",
    "from helper import murmur3, bit_field_to_bytes\n",
    "field_size = 10\n",
    "function_count = 5\n",
    "tweak = 99\n",
    "items = (b'Hello World',  b'Goodbye!')\n",
    "# bit_field_size is 8 * field_size\n",
    "bit_field_size = 8 * field_size\n",
    "# create a bit field with the appropriate size\n",
    "bit_field = [0] * bit_field_size\n",
    "# for each item you want to add to the filter\n",
    "for item in items:\n",
    "    # iterate function_count number of times\n",
    "    for i in range(function_count):\n",
    "        # BIP0037 spec seed is i*BIP37_CONSTANT + tweak\n",
    "        seed = i * BIP37_CONSTANT + tweak\n",
    "        # get the murmur3 hash given that seed\n",
    "        h = murmur3(item, seed=seed)\n",
    "        # set the bit to be h mod the bit_field_size\n",
    "        bit_field[h % bit_field_size] = 1\n",
    "        # set the bit_field at the index bit to be 1\n",
    "\n",
    "# print the bit field converted to bytes using bit_field_to_bytes in hex\n",
    "print(bit_field_to_bytes(bit_field).hex())"
   ]
  },
  {
   "cell_type": "markdown",
   "id": "5c23474e",
   "metadata": {},
   "source": [
    "### Exercise 2\n",
    "\n",
    "\n",
    "\n",
    "\n",
    "#### Make [this test](/edit/session8/bloomfilter.py) pass: `bloomfilter.py:BloomFilterTest:test_add`"
   ]
  },
  {
   "cell_type": "code",
   "execution_count": 7,
   "id": "ab4d865e",
   "metadata": {},
   "outputs": [
    {
     "name": "stderr",
     "output_type": "stream",
     "text": [
      ".\n",
      "----------------------------------------------------------------------\n",
      "Ran 1 test in 0.005s\n",
      "\n",
      "OK\n"
     ]
    }
   ],
   "source": [
    "# Exercise 2\n",
    "\n",
    "reload(bloomfilter)\n",
    "run(bloomfilter.BloomFilterTest('test_add'))"
   ]
  },
  {
   "cell_type": "markdown",
   "id": "785dc758",
   "metadata": {},
   "source": [
    "### Exercise 3\n",
    "\n",
    "\n",
    "\n",
    "\n",
    "#### Make [this test](/edit/session8/bloomfilter.py) pass: `bloomfilter.py:BloomFilterTest:test_filterload`"
   ]
  },
  {
   "cell_type": "code",
   "execution_count": 8,
   "id": "b9844fce",
   "metadata": {},
   "outputs": [
    {
     "name": "stderr",
     "output_type": "stream",
     "text": [
      ".\n",
      "----------------------------------------------------------------------\n",
      "Ran 1 test in 0.003s\n",
      "\n",
      "OK\n"
     ]
    }
   ],
   "source": [
    "# Exercise 3\n",
    "\n",
    "reload(bloomfilter)\n",
    "run(bloomfilter.BloomFilterTest('test_filterload'))"
   ]
  },
  {
   "cell_type": "markdown",
   "id": "13dc9d85",
   "metadata": {},
   "source": [
    "### Exercise 4\n",
    "Do the following:\n",
    "\n",
    "* Connect to a testnet node\n",
    "* Load a filter for your testnet address\n",
    "* Send a request for transactions from the block which had your previous testnet transaction\n",
    "* Receive the merkleblock and tx messages.\n"
   ]
  },
  {
   "cell_type": "code",
   "execution_count": 17,
   "id": "7a0596df",
   "metadata": {
    "scrolled": true
   },
   "outputs": [
    {
     "name": "stdout",
     "output_type": "stream",
     "text": [
      "mgHULz6rZsc9J9PbMVt4os2UGBCZV8YCHm\n",
      "tx: 0d71e79c96f6f0be8622efcd7b272ee948d217df6ef5ca86c6eb98992deaf0c8\n",
      "version: 1\n",
      "tx_ins:\n",
      "f542c6df0e0f52ab23b710ccf0cc26b376cee0618882dd65dcfef7c60c0e7450:6\n",
      "tx_outs:\n",
      "4000000:OP_DUP OP_HASH160 6e13971913b9aa89659a9f53d327baa8826f2d75 OP_EQUALVERIFY OP_CHECKSIG 5950000:OP_DUP OP_HASH160 086b63228be1fbeb4fceab281e19f578fa13e454 OP_EQUALVERIFY OP_CHECKSIG\n",
      "locktime: 0\n",
      "\n",
      "tx: 0d71e79c96f6f0be8622efcd7b272ee948d217df6ef5ca86c6eb98992deaf0c8\n",
      "version: 1\n",
      "tx_ins:\n",
      "f542c6df0e0f52ab23b710ccf0cc26b376cee0618882dd65dcfef7c60c0e7450:6\n",
      "tx_outs:\n",
      "4000000:OP_DUP OP_HASH160 6e13971913b9aa89659a9f53d327baa8826f2d75 OP_EQUALVERIFY OP_CHECKSIG 5950000:OP_DUP OP_HASH160 086b63228be1fbeb4fceab281e19f578fa13e454 OP_EQUALVERIFY OP_CHECKSIG\n",
      "locktime: 0\n",
      "\n"
     ]
    }
   ],
   "source": [
    "# Exercise 4\n",
    "import block\n",
    "import network\n",
    "import script\n",
    "import tx\n",
    "reload(block)\n",
    "reload(network)\n",
    "reload(script)\n",
    "reload(tx)\n",
    "from bloomfilter import BloomFilter\n",
    "from ecc import PrivateKey\n",
    "from helper import decode_base58, hash256, little_endian_to_int\n",
    "from block import Block\n",
    "from network import SimpleNode, GetDataMessage, BLOCK_DATA_TYPE\n",
    "from tx import Tx\n",
    "block_hash = bytes.fromhex('00000000000000bd8b14853cc7f1288739d557f761d97a9ac6dce3f9d57fa4dd')  # CHANGE\n",
    "passphrase = b'Jimmy Song jimmy@programmingblockchain.com'  # CHANGE\n",
    "secret = little_endian_to_int(hash256(passphrase))\n",
    "private_key = PrivateKey(secret=secret)\n",
    "addr = private_key.point.address(testnet=True)\n",
    "print(addr)\n",
    "filter_size = 30\n",
    "filter_num_functions = 5\n",
    "filter_tweak = 4747  # CHANGE\n",
    "# get the hash160 of the address using decode_base58\n",
    "h160 = decode_base58(addr)\n",
    "# create a bloom filter using the filter_size, filter_num_functions and filter_tweak above\n",
    "bf = BloomFilter(filter_size, filter_num_functions, filter_tweak)\n",
    "# add the h160 to the bloom filter\n",
    "bf.add(h160)\n",
    "# connect to testnet.programmingbitcoin.com in testnet mode\n",
    "node = SimpleNode('testnet-seed.bluematt.me', testnet=True)\n",
    "# complete the handshake\n",
    "node.handshake()\n",
    "# create a getdata message\n",
    "get_data = GetDataMessage()\n",
    "# add_data (FILTERED_BLOCK_DATA_TYPE, block_hash) to request the block\n",
    "get_data.add_data(BLOCK_DATA_TYPE, block_hash)\n",
    "# send the getdata message\n",
    "node.send(get_data)\n",
    "# wait for the merkleblock command\n",
    "b = node.wait_for(Block)\n",
    "# check that the merkle block's hash is the same as the block hash\n",
    "if b.hash() != block_hash:\n",
    "    raise RuntimeError\n",
    "# loop through the tx hashes we are expecting using proved_txs\n",
    "for t in b.get_transactions([addr]):\n",
    "    print(t)"
   ]
  },
  {
   "cell_type": "markdown",
   "id": "da6b501f",
   "metadata": {},
   "source": [
    "### Exercise 5\n",
    "\n",
    "\n",
    "\n",
    "\n",
    "#### Make [this test](/edit/session8/network.py) pass: `network.py:SimpleNodeTest:test_get_filtered_txs`"
   ]
  },
  {
   "cell_type": "code",
   "execution_count": 15,
   "id": "7e6d62fe",
   "metadata": {},
   "outputs": [
    {
     "name": "stderr",
     "output_type": "stream",
     "text": [
      "E\n",
      "======================================================================\n",
      "ERROR: test_get_filtered_txs (network.SimpleNodeTest)\n",
      "----------------------------------------------------------------------\n",
      "Traceback (most recent call last):\n",
      "  File \"/home/jimmy/pb-exercises/session8/network.py\", line 484, in test_get_filtered_txs\n",
      "    txs = node.get_filtered_txs([block_hash])\n",
      "  File \"/home/jimmy/pb-exercises/session8/network.py\", line 449, in get_filtered_txs\n",
      "    mb = self.wait_for(MerkleBlock)\n",
      "  File \"/home/jimmy/pb-exercises/session8/network.py\", line 407, in wait_for\n",
      "    envelope = self.read()\n",
      "  File \"/home/jimmy/pb-exercises/session8/network.py\", line 394, in read\n",
      "    envelope = NetworkEnvelope.parse(self.stream, testnet=self.testnet)\n",
      "  File \"/home/jimmy/pb-exercises/session8/network.py\", line 47, in parse\n",
      "    raise RuntimeError('Connection reset!')\n",
      "RuntimeError: Connection reset!\n",
      "\n",
      "----------------------------------------------------------------------\n",
      "Ran 1 test in 0.170s\n",
      "\n",
      "FAILED (errors=1)\n"
     ]
    }
   ],
   "source": [
    "# Exercise 5\n",
    "\n",
    "reload(network)\n",
    "run(network.SimpleNodeTest('test_get_filtered_txs'))"
   ]
  },
  {
   "cell_type": "markdown",
   "id": "d14ded3b",
   "metadata": {},
   "source": [
    "### Exercise 6\n",
    "You have been sent some unknown amount of testnet bitcoins to your address.\n",
    "\n",
    "Send all of it back (minus fees) to `mqYz6JpuKukHzPg94y4XNDdPCEJrNkLQcv` using only the networking protocol.\n",
    "\n",
    "This should be a 1 input, 1 output transaction.\n",
    "\n",
    "Remember turn on logging in `SimpleNode` if you need to debug\n"
   ]
  },
  {
   "cell_type": "code",
   "execution_count": 17,
   "id": "6f858714",
   "metadata": {},
   "outputs": [
    {
     "name": "stdout",
     "output_type": "stream",
     "text": [
      "01000000017b15c56a5a81d853f96300718f6289fa4891c2dd906043742adac67f5c20344c000000006b48304502210095acf8d01af1ce04fd547dbf5d49e9913ecfd282b35068b10c2a68db182b11f6022042469d28e58e3c764c79a3790b00b6aa7749473db0517f785724f5dce0785fc401210254c7c368f901ebbc4c14479d7f90f45c886c63974727288130c110d8d778ddbbffffffff011ce9e800000000001976a9146e13971913b9aa89659a9f53d327baa8826f2d7588ac00000000\n",
      "True\n"
     ]
    }
   ],
   "source": [
    "# Exercise 6\n",
    "\n",
    "from time import sleep\n",
    "from block import Block\n",
    "from bloomfilter import BloomFilter\n",
    "from ecc import PrivateKey\n",
    "from helper import decode_base58, hash160, hash256, little_endian_to_int\n",
    "from merkleblock import MerkleBlock\n",
    "from network import GetHeadersMessage, HeadersMessage, SimpleNode\n",
    "from script import p2pkh_script\n",
    "from tx import Tx, TxIn, TxOut\n",
    "start_block_hex = '000000000000002020d1823678eb3094c27506c7061fb590cd83cebe051e1693'  # CHANGE\n",
    "start_block = bytes.fromhex(start_block_hex)\n",
    "end_block_hex = '00' * 32\n",
    "end_block = bytes.fromhex(end_block_hex)\n",
    "passphrase = b'Jimmy Song jimmy@programmingblockchain.com'  # CHANGE\n",
    "secret = little_endian_to_int(hash256(passphrase))\n",
    "private_key = PrivateKey(secret=secret)\n",
    "addr = private_key.point.address(testnet=True)\n",
    "h160 = decode_base58(addr)\n",
    "target_address = 'mqYz6JpuKukHzPg94y4XNDdPCEJrNkLQcv'\n",
    "target_h160 = decode_base58(target_address)\n",
    "target_script = p2pkh_script(target_h160)\n",
    "bloom_filter = BloomFilter(30, 5, 90210)\n",
    "fee = 5000  # fee in satoshis\n",
    "# connect to testnet.programmingbitcoin.com in testnet mode\n",
    "node = SimpleNode('testnet-seed.bitcoin.jonasschnelli.ch', testnet=True)\n",
    "# add the h160 to the bloom filter\n",
    "bloom_filter.add(h160)\n",
    "# complete the handshake\n",
    "node.handshake()\n",
    "# send the 'filterload' message from the bloom filter\n",
    "node.send(bloom_filter.filterload())\n",
    "# create GetHeadersMessage with the start_block as the start_block and end_block as the end block\n",
    "get_headers = GetHeadersMessage(start_block=start_block, end_block=end_block)\n",
    "# send a getheaders message\n",
    "node.send(get_headers)\n",
    "# wait for the headers message\n",
    "headers = node.wait_for(HeadersMessage)\n",
    "# check that the headers are valid\n",
    "if not headers.is_valid():\n",
    "    raise RuntimeError\n",
    "# get all the block hashes from the headers.headers array\n",
    "block_hashes = [header.hash() for header in headers.headers]\n",
    "# get the filtered transactions from these blocks\n",
    "txs = node.get_filtered_txs(block_hashes)\n",
    "# loop through each filtered transaction\n",
    "for tx_obj in txs:\n",
    "    # use find_utxos to get utxos that belong to our address\n",
    "    utxos = tx_obj.find_utxos(addr)\n",
    "    # if we have any utxos, break\n",
    "    if len(utxos):\n",
    "        break\n",
    "# prev_tx, prev_index, prev_amount are what we get in each utxo\n",
    "prev_tx, prev_index, prev_amount = utxos[0]\n",
    "# create tx_in\n",
    "tx_in = TxIn(prev_tx, prev_index)\n",
    "# calculate the output amount (prev_amount - fee)\n",
    "output_amount = prev_amount - fee\n",
    "# create tx_out\n",
    "tx_out = TxOut(output_amount, target_script)\n",
    "# create transaction on testnet\n",
    "tx_obj = Tx(1, [tx_in], [tx_out], 0, testnet=True)\n",
    "# sign the one input we have\n",
    "tx_obj.sign_input(0, private_key)\n",
    "# serialize and hex to see what it looks like\n",
    "print(tx_obj.serialize().hex())\n",
    "# send this signed transaction on the network\n",
    "node.send(tx_obj)\n",
    "# wait a sec so this message goes through to the other node sleep(1)\n",
    "sleep(1)\n",
    "# now check to see if the tx has been accepted using is_tx_accepted()\n",
    "print(node.is_tx_accepted(tx_obj))\n",
    "\n"
   ]
  },
  {
   "cell_type": "code",
   "execution_count": null,
   "id": "245c587a",
   "metadata": {},
   "outputs": [],
   "source": []
  }
 ],
 "metadata": {
  "kernelspec": {
   "display_name": "Python 3",
   "language": "python",
   "name": "python3"
  },
  "language_info": {
   "codemirror_mode": {
    "name": "ipython",
    "version": 3
   },
   "file_extension": ".py",
   "mimetype": "text/x-python",
   "name": "python",
   "nbconvert_exporter": "python",
   "pygments_lexer": "ipython3",
   "version": "3.8.5"
  }
 },
 "nbformat": 4,
 "nbformat_minor": 5
}
